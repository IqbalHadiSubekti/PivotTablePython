{
 "cells": [
  {
   "cell_type": "code",
   "execution_count": null,
   "id": "e832a899",
   "metadata": {},
   "outputs": [],
   "source": [
    "import pandas as pd\n",
    "import numpy as np"
   ]
  },
  {
   "cell_type": "code",
   "execution_count": null,
   "id": "3ff15ad3",
   "metadata": {},
   "outputs": [],
   "source": [
    "#data1 = pd.read_csv('gabung.csv')\n",
    "#read data in chunks of 1 million rows at a time\n",
    "chunk = pd.read_csv('subs_nation_jan.txt',chunksize=1000000, low_memory=False, delimiter=\"|\")\n",
    "df = pd.concat(chunk)"
   ]
  },
  {
   "cell_type": "code",
   "execution_count": null,
   "id": "7ca70413",
   "metadata": {},
   "outputs": [],
   "source": [
    "df"
   ]
  },
  {
   "cell_type": "code",
   "execution_count": null,
   "id": "48c96087",
   "metadata": {},
   "outputs": [],
   "source": [
    "table = pd.pivot_table(df,index=[\"kecamatan\",\"kelurahan\"],values=[\"_c7\"],aggfunc=[np.sum,len])\n",
    "table"
   ]
  },
  {
   "cell_type": "code",
   "execution_count": null,
   "id": "ee335c66",
   "metadata": {},
   "outputs": [],
   "source": [
    "table.to_csv(\"Sub Nation Kelurahan Kecamatan Januari.csv\")"
   ]
  },
  {
   "cell_type": "code",
   "execution_count": null,
   "id": "e84e18b3",
   "metadata": {},
   "outputs": [],
   "source": []
  }
 ],
 "metadata": {
  "kernelspec": {
   "display_name": "Python 3",
   "language": "python",
   "name": "python3"
  },
  "language_info": {
   "codemirror_mode": {
    "name": "ipython",
    "version": 3
   },
   "file_extension": ".py",
   "mimetype": "text/x-python",
   "name": "python",
   "nbconvert_exporter": "python",
   "pygments_lexer": "ipython3",
   "version": "3.7.8"
  }
 },
 "nbformat": 4,
 "nbformat_minor": 5
}
